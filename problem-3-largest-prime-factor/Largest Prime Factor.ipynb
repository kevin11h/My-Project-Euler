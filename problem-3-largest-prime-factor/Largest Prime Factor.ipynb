{
 "cells": [
  {
   "cell_type": "code",
   "execution_count": 3,
   "metadata": {
    "collapsed": false
   },
   "outputs": [
    {
     "data": {
      "text/html": [
       "<!DOCTYPE html>\r\n",
       "<html lang=\"en\">\r\n",
       "<head>\r\n",
       "<meta charset=\"utf-8\" />\r\n",
       "<meta name=\"author\" content=\"Colin Hughes\" />\r\n",
       "<meta name=\"description\" content=\"A website dedicated to the fascinating world of mathematics and programming\" />\r\n",
       "<meta name=\"keywords\" content=\"programming,mathematics,problems,puzzles\" />\r\n",
       "<title>Problem 3 - Project Euler</title>\r\n",
       "<link rel=\"shortcut icon\" href=\"favicon.ico\" />\r\n",
       "<link rel=\"stylesheet\" type=\"text/css\" href=\"themes/default/style_default.css\" />\r\n",
       "\r\n",
       "<script type=\"text/x-mathjax-config\">\r\n",
       "   MathJax.Hub.Config({\r\n",
       "      jax: [\"input/TeX\", \"output/HTML-CSS\"],\r\n",
       "      tex2jax: {\r\n",
       "         inlineMath: [ [\"$\",\"$\"], [\"\\\\(\",\"\\\\)\"] ],\r\n",
       "         displayMath: [ [\"$$\",\"$$\"], [\"\\\\[\",\"\\\\]\"] ],\r\n",
       "         processEscapes: true\r\n",
       "      },\r\n",
       "      \"HTML-CSS\": { availableFonts: [\"TeX\"] }\r\n",
       "   });\r\n",
       "</script>\r\n",
       "<!--[if !IE]><!-->\r\n",
       "<script type=\"text/javascript\" src=\"//cdn.mathjax.org/mathjax/latest/MathJax.js?config=TeX-AMS_HTML-full,Safe\"></script>\r\n",
       "<!--<![endif]-->\r\n",
       "<!--[if IE]>\r\n",
       "<script type=\"text/javascript\" src=\"//cdn.mathjax.org/mathjax/2.4-latest/MathJax.js?config=TeX-AMS_HTML-full,Safe\"></script>\r\n",
       "<![endif]-->\r\n",
       "</head>\r\n",
       "\r\n",
       "<body>\r\n",
       "<div id=\"container\">\r\n",
       "<div id=\"header\" class=\"noprint\">\r\n",
       "<div id=\"nav\" class=\"noprint\">\r\n",
       "<ul>\r\n",
       "<li><a href=\"about\" title=\"About\" accesskey=\"h\">About</a></li>\n",
       "<li id=\"current\"><a href=\"archives\" title=\"Archives\" accesskey=\"1\">Archives</a></li>\n",
       "<li><a href=\"recent\" title=\"Recent\" accesskey=\"2\">Recent</a></li>\n",
       "<li><a href=\"news\" title=\"News\" accesskey=\"3\">News</a></li>\n",
       "<li><a href=\"register\" title=\"Register\" accesskey=\"4\">Register</a></li>\n",
       "<li><a href=\"sign_in\" title=\"Sign In\" accesskey=\"5\">Sign In</a></li>\n",
       "</ul>\r\n",
       "</div>\r\n",
       "\r\n",
       "<div id=\"logo\" class=\"noprint\">\r\n",
       "   <div>Project Euler<span>.net</span></div>\r\n",
       "</div>\r\n",
       "</div>\r\n",
       "\r\n",
       "<div id=\"info_panel\"><a href=\"rss2_euler.xml\"><img src=\"images/icon_rss.png\" alt=\"RSS Feed\" title=\"RSS Feed\" /></a><span class=\"info\" style=\"cursor:pointer;\"><a href=\"secure=Xs1sU7IG30RsZg64\"><img src=\"images/icon_lock.png\" alt=\"secure_icon\" /></a><span style=\"color:#070;font-weight:bold;text-align:left;width:250px;right:10px;\">You are currently using a secure connection</span></span></div>\r\n",
       "<div id=\"content\">\r\n",
       "<div style=\"text-align:center;\" class=\"print\"><img src=\"images/print_page_logo.png\" alt=\"projecteuler.net\" style=\"border:none;\" /></div>\n",
       "<h2>Largest prime factor</h2><div id=\"problem_info\" class=\"info\"><h3>Problem 3</h3><span>Published on Friday, 2nd November 2001, 06:00 pm; Solved by 306431; Difficulty rating: 5%</span></div>\r\n",
       "<div class=\"problem_content\" role=\"problem\">\r\n",
       "<p>The prime factors of 13195 are 5, 7, 13 and 29.</p>\n",
       "<p>What is the largest prime factor of the number 600851475143 ?</p>\n",
       "\n",
       "\n",
       "</div><br />\r\n",
       "<br /></div>\r\n",
       "\r\n",
       "<div id=\"footer\" class=\"noprint\">\r\n",
       "Project Euler: <a href=\"copyright\">Copyright Information</a> | <a href=\"privacy\">Privacy Policy</a>\r\n",
       "<!--/Creative Commons License--><!-- <rdf:RDF xmlns=\"http://web.resource.org/cc/\" xmlns:dc=\"http://purl.org/dc/elements/1.1/\" xmlns:rdf=\"http://www.w3.org/1999/02/22-rdf-syntax-ns#\" xmlns:rdfs=\"http://www.w3.org/2000/01/rdf-schema#\">\r\n",
       "   <Work rdf:about=\"\">\r\n",
       "      <license rdf:resource=\"http://creativecommons.org/licenses/by-nc-sa/2.0/uk/\" />\r\n",
       "   <dc:type rdf:resource=\"http://purl.org/dc/dcmitype/Text\" />\r\n",
       "   </Work>\r\n",
       "   <License rdf:about=\"http://creativecommons.org/licenses/by-nc-sa/2.0/uk/\"><permits rdf:resource=\"http://web.resource.org/cc/Reproduction\"/><permits rdf:resource=\"http://web.resource.org/cc/Distribution\"/><requires rdf:resource=\"http://web.resource.org/cc/Notice\"/><requires rdf:resource=\"http://web.resource.org/cc/Attribution\"/><prohibits rdf:resource=\"http://web.resource.org/cc/CommercialUse\"/><permits rdf:resource=\"http://web.resource.org/cc/DerivativeWorks\"/><requires rdf:resource=\"http://web.resource.org/cc/ShareAlike\"/></License></rdf:RDF> -->\r\n",
       "</div>\r\n",
       "</div>\r\n",
       "</body>\r\n",
       "</html>"
      ],
      "text/plain": [
       "<IPython.core.display.HTML object>"
      ]
     },
     "execution_count": 3,
     "metadata": {},
     "output_type": "execute_result"
    }
   ],
   "source": [
    "from IPython.display import HTML\n",
    "HTML('http://projecteuler.net/problem=3')"
   ]
  },
  {
   "cell_type": "markdown",
   "metadata": {},
   "source": [
    "I originally skipped over this problem because it's a deceivingly, infamously hard problem to optimally solve "
   ]
  },
  {
   "cell_type": "markdown",
   "metadata": {},
   "source": [
    "### First Attempt"
   ]
  },
  {
   "cell_type": "code",
   "execution_count": 1,
   "metadata": {
    "collapsed": false
   },
   "outputs": [],
   "source": [
    "import math"
   ]
  },
  {
   "cell_type": "code",
   "execution_count": 167,
   "metadata": {
    "collapsed": false
   },
   "outputs": [],
   "source": [
    "# very naive, be gentle!\n",
    "def find_prime_factors(natural):\n",
    "    lower_bound = 2\n",
    "    upper_bound = int(math.ceil(math.sqrt(natural)))+1\n",
    "    candidates = range(lower_bound, upper_bound+1)\n",
    "    prime_factors = set([])\n",
    "\n",
    "    for i in candidates:\n",
    "        \n",
    "        \n",
    "        check_if_not_divisible_by_previously_established_prime_factors = [(i % p != 0) for p in prime_factors]\n",
    "        candidate_is_not_divisible_by_previously_established_prime_factors = reduce(lambda all_true, b : all_true and b, \\\n",
    "                                                                                    check_if_not_divisible_by_previously_established_prime_factors, \\\n",
    "                                                                                    True)\n",
    "        if natural % i == 0 and candidate_is_not_divisible_by_previously_established_prime_factors:\n",
    "            prime_factors.add(i)\n",
    "        \n",
    "    return prime_factors\n",
    "        \n",
    "\n",
    "def naive_largest_prime_factor(natural):\n",
    "    if natural == 1:\n",
    "        raise Exception(\"1 is not a prime number!\")\n",
    "        \n",
    "    pfs = find_prime_factors(natural)\n",
    "    largest_prime = natural\n",
    "    \n",
    "    \n",
    "    if pfs:\n",
    "        return max(sorted(pfs))\n",
    "    else:\n",
    "        return largest_prime"
   ]
  },
  {
   "cell_type": "code",
   "execution_count": 168,
   "metadata": {
    "collapsed": false
   },
   "outputs": [
    {
     "data": {
      "text/plain": [
       "29"
      ]
     },
     "execution_count": 168,
     "metadata": {},
     "output_type": "execute_result"
    }
   ],
   "source": [
    "naive_largest_prime_factor(13195)"
   ]
  },
  {
   "cell_type": "code",
   "execution_count": 169,
   "metadata": {
    "collapsed": false
   },
   "outputs": [
    {
     "data": {
      "text/plain": [
       "775147"
      ]
     },
     "execution_count": 169,
     "metadata": {},
     "output_type": "execute_result"
    }
   ],
   "source": [
    "int(math.ceil(math.sqrt(600851475143)))"
   ]
  },
  {
   "cell_type": "code",
   "execution_count": 170,
   "metadata": {
    "collapsed": false
   },
   "outputs": [
    {
     "name": "stdout",
     "output_type": "stream",
     "text": [
      "CPU times: user 3.66 s, sys: 44 ms, total: 3.7 s\n",
      "Wall time: 3.69 s\n"
     ]
    },
    {
     "data": {
      "text/plain": [
       "6857"
      ]
     },
     "execution_count": 170,
     "metadata": {},
     "output_type": "execute_result"
    }
   ],
   "source": [
    "%time naive_largest_prime_factor(600851475143)"
   ]
  },
  {
   "cell_type": "code",
   "execution_count": null,
   "metadata": {
    "collapsed": true
   },
   "outputs": [],
   "source": []
  }
 ],
 "metadata": {
  "kernelspec": {
   "display_name": "Python 2",
   "language": "python",
   "name": "python2"
  },
  "language_info": {
   "codemirror_mode": {
    "name": "ipython",
    "version": 2
   },
   "file_extension": ".py",
   "mimetype": "text/x-python",
   "name": "python",
   "nbconvert_exporter": "python",
   "pygments_lexer": "ipython2",
   "version": "2.7.10"
  }
 },
 "nbformat": 4,
 "nbformat_minor": 0
}
